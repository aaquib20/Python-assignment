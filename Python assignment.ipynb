{
 "cells": [
  {
   "cell_type": "markdown",
   "id": "6f7d6314-b8ef-4e8c-a404-d15ea98fa5a3",
   "metadata": {},
   "source": [
    "Q1. Explain with an example each when to use a for loop and a while loop.\n",
    "\n",
    "A for loop is useful when you know the number of iterations or when you want to iterate over a specific sequence of elements. It is particularly suitable for iterating over arrays, lists, or any other iterable object. \n",
    "\n",
    "Example \n",
    "\n",
    "fruits = [\"apple\", \"banana\", \"orange\", \"grape\"]\n",
    "A while loop is useful when you want to repeat a block of code until a certain condition is met. It is often used when you don't know the exact number of iterations in advance.\n",
    "\n",
    "# Iterating over a list using a for loop\n",
    "for fruit in fruits:\n",
    "    print(fruit)\n",
    "    \n",
    "    \n",
    "A while loop is useful when you want to repeat a block of code until a certain condition is met. It is often used when you don't know the exact number of iterations in advance.\n",
    "\n",
    "\n",
    "num = 1\n",
    "\n",
    "# Printing numbers from 1 to 5 using a while loop\n",
    "while num <= 5:\n",
    "    print(num)\n",
    "    num += 1\n",
    "\n"
   ]
  },
  {
   "cell_type": "code",
   "execution_count": 8,
   "id": "c7e51066-1863-4c88-b4c7-97b3d076905f",
   "metadata": {},
   "outputs": [
    {
     "name": "stdout",
     "output_type": "stream",
     "text": [
      "55 3628800\n"
     ]
    }
   ],
   "source": [
    "##Q2 -Write a python program to print the sum and product of the first 10 natural numbers using for\n",
    "##and while loop.\n",
    "\n",
    "## for loop\n",
    "num = range(1, 11)\n",
    "sum1 = 0\n",
    "product = 1\n",
    "\n",
    "for i in num:\n",
    "    sum1 = sum1 + i\n",
    "    product = product * i\n",
    "\n",
    "print(sum1)\n",
    "print(product)\n",
    "\n",
    "##using while loop\n",
    "sum1=0\n",
    "product = 1\n",
    "i =1\n",
    "while i<=10:\n",
    "      sum1 = sum1 + i\n",
    "      product = product *i\n",
    "      i = i+1\n",
    "print(sum1,product)\n",
    "\n"
   ]
  },
  {
   "cell_type": "code",
   "execution_count": 9,
   "id": "c2734e47-b355-4d48-8124-5d4ef829cd43",
   "metadata": {},
   "outputs": [
    {
     "name": "stdout",
     "output_type": "stream",
     "text": [
      "55 3628800\n"
     ]
    }
   ],
   "source": [
    "sum1=0\n",
    "product = 1\n",
    "i =1\n",
    "while i<=10:\n",
    "      sum1 = sum1 + i\n",
    "      product = product *i\n",
    "      i = i+1\n",
    "print(sum1,product)"
   ]
  },
  {
   "cell_type": "code",
   "execution_count": 23,
   "id": "91d57d5a-2773-4306-8a3b-24fa17cd810b",
   "metadata": {},
   "outputs": [
    {
     "name": "stdin",
     "output_type": "stream",
     "text": [
      "enter no. of units consumed 310\n"
     ]
    },
    {
     "name": "stdout",
     "output_type": "stream",
     "text": [
      "your bill is 2250\n"
     ]
    }
   ],
   "source": [
    "##Q-3\n",
    "\n",
    "unit = int(input(\"enter no. of units consumed\"))\n",
    "\n",
    "if 0<= unit <=100 :\n",
    "    a = 4.5*unit\n",
    "    print(\"your bill is\",a)\n",
    "elif 100<unit<=200:\n",
    "    a = 4.5*100 +(unit-100)*6\n",
    "    print(\"your bill is\",a)\n",
    "elif  200 < unit <= 300:\n",
    "    a = 450+600+(unit-200)*10\n",
    "    print(\"your bill is\",a)\n",
    "else:\n",
    "    a = 450 + 600 +1000+ (unit -300)*20\n",
    "    print(\"your bill is\",a)\n",
    "         "
   ]
  },
  {
   "cell_type": "code",
   "execution_count": 26,
   "id": "af4986bb-57b7-4e1d-94b3-067e94ecfe18",
   "metadata": {},
   "outputs": [
    {
     "name": "stdout",
     "output_type": "stream",
     "text": [
      "[2, 4, 5, 6, 8, 10, 12, 14, 15, 16, 18, 20, 22, 24, 25, 26, 28, 30, 32, 34, 35, 36, 38, 40, 42, 44, 45, 46, 48, 50, 52, 54, 55, 56, 58, 60, 62, 64, 65, 66, 68, 70, 72, 74, 75, 76, 78, 80, 82, 84, 85, 86, 88, 90, 92, 94, 95, 96, 98, 100]\n"
     ]
    }
   ],
   "source": [
    "#Q4\n",
    "# using for loop\n",
    "\n",
    "list1 = list(range(1,101))\n",
    "\n",
    "result = []\n",
    "\n",
    "for i in list1 :\n",
    "    cube = i*i*i\n",
    "    if cube % 4==0 or cube % 5 ==0 :\n",
    "        result.append(i)\n",
    "print(result)\n",
    "\n",
    "\n",
    "\n",
    "\n",
    "\n"
   ]
  },
  {
   "cell_type": "code",
   "execution_count": 36,
   "id": "9a6a4643-26bd-4a64-bb52-3b6f2f19c698",
   "metadata": {},
   "outputs": [
    {
     "name": "stdout",
     "output_type": "stream",
     "text": [
      "[2, 4, 5, 6, 8, 10, 12, 14, 15, 16, 18, 20, 22, 24, 25, 26, 28, 30, 32, 34, 35, 36, 38, 40, 42, 44, 45, 46, 48, 50, 52, 54, 55, 56, 58, 60, 62, 64, 65, 66, 68, 70, 72, 74, 75, 76, 78, 80, 82, 84, 85, 86, 88, 90, 92, 94, 95, 96, 98, 100]\n"
     ]
    }
   ],
   "source": [
    "\n",
    "#using while loop\n",
    "numbers = list(range(1, 101))\n",
    "result_list = []\n",
    "\n",
    "index = 0\n",
    "while index < len(numbers):\n",
    "    num = numbers[index]\n",
    "    cube = num ** 3\n",
    "    if cube % 4 == 0 or cube % 5 == 0:\n",
    "        result_list.append(num)\n",
    "    index += 1\n",
    "\n",
    "print(result_list)\n",
    "\n",
    "        \n"
   ]
  },
  {
   "cell_type": "code",
   "execution_count": 37,
   "id": "b3e4d255-1d21-42fc-9754-c8a1ff02eb1a",
   "metadata": {},
   "outputs": [
    {
     "name": "stdout",
     "output_type": "stream",
     "text": [
      "Number of vowels: 12\n"
     ]
    }
   ],
   "source": [
    "#Q5\n",
    "\n",
    "string = \"I want to become a data scientist\"\n",
    "vowels = ['a', 'e', 'i', 'o', 'u']\n",
    "count = 0\n",
    "\n",
    "for char in string:\n",
    "    if char.lower() in vowels:\n",
    "        count += 1\n",
    "\n",
    "print(\"Number of vowels:\", count)\n"
   ]
  },
  {
   "cell_type": "code",
   "execution_count": null,
   "id": "4a1f4d11-5138-4956-bfa7-7d87bcb65141",
   "metadata": {},
   "outputs": [],
   "source": []
  }
 ],
 "metadata": {
  "kernelspec": {
   "display_name": "Python 3 (ipykernel)",
   "language": "python",
   "name": "python3"
  },
  "language_info": {
   "codemirror_mode": {
    "name": "ipython",
    "version": 3
   },
   "file_extension": ".py",
   "mimetype": "text/x-python",
   "name": "python",
   "nbconvert_exporter": "python",
   "pygments_lexer": "ipython3",
   "version": "3.10.8"
  }
 },
 "nbformat": 4,
 "nbformat_minor": 5
}
